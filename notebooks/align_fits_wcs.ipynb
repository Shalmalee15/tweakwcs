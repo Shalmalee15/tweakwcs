{
 "cells": [
  {
   "cell_type": "markdown",
   "metadata": {},
   "source": [
    "# Aligning HST ACS/HRC Images Using `tweakwcs`"
   ]
  },
  {
   "cell_type": "markdown",
   "metadata": {},
   "source": [
    "***\n",
    "## About this Notebook\n",
    "**Author:** Mihai Cara, STScI\n",
    "<br>**Initial Version On:** 11/20/2018"
   ]
  },
  {
   "cell_type": "markdown",
   "metadata": {},
   "source": [
    "***\n",
    "## Introduction\n",
    "\n",
    "Often the World Coordinate System (WCS) of images may contain small errors. These alignment errors in the WCS of the images need to be removed before images can be further processed, e.g., before they can be combined into a mosaiced image. The images are said to be aligned (in a relative sense) _on the sky_ when image coordinates _of the same object_ (present in several images) can be converted aproximately the same sky coordinates (using appropriate image's WCS).\n",
    "\n",
    "In this notebook we illustrate how to create source catalogs using `photutils` package and then how to match sources from image catalogs and find aligned `WCS` using `tweakwcs` package."
   ]
  },
  {
   "cell_type": "markdown",
   "metadata": {},
   "source": [
    "***\n",
    "## Imports"
   ]
  },
  {
   "cell_type": "code",
   "execution_count": null,
   "metadata": {},
   "outputs": [],
   "source": [
    "import shutil\n",
    "import glob\n",
    "import os\n",
    "\n",
    "import matplotlib.pyplot as plt\n",
    "from astropy.io import fits\n",
    "\n",
    "from stwcs.wcsutil import HSTWCS\n",
    "from astroquery.mast import Observations\n",
    "from drizzlepac import updatehdr\n",
    "\n",
    "from tweakwcs import tweak_wcs, tweak_image_wcs, FITSWCS\n",
    "from photutils import detect_threshold, DAOStarFinder\n",
    "\n",
    "import os\n",
    "os.chdir('/Users/mcara/repo/tweakwcs/notebooks/')"
   ]
  },
  {
   "cell_type": "markdown",
   "metadata": {},
   "source": [
    "***\n",
    "## Download Data\n",
    "\n",
    "For this example, we have chosen HST ACS/WFC observation of NGC104 in the F606W filter. The data come from the SM3/ACS proposal 9019 _\"HRC flat field stability\"_ (PI: Ralph Bohlin).\n",
    "\n",
    "Data are downloaded using the `astroquery` API to access the [MAST](http://archive.stsci.edu) archive. The `astroquery.mast` [documentation](http://astroquery.readthedocs.io/en/latest/mast/mast.html) has more examples for how to find and download data from MAST."
   ]
  },
  {
   "cell_type": "code",
   "execution_count": null,
   "metadata": {},
   "outputs": [],
   "source": [
    "# Retrieve the observation information.\n",
    "obs_table = Observations.query_criteria(obs_id='j8bt06*', filters='F606W', obstype='ALL')\n",
    "products = Observations.get_product_list(obs_table)\n",
    "\n",
    "# Download only the 'j8bt06nyq' and 'j8bt06nzq' images:\n",
    "Observations.download_products(products, mrp_only=False, obs_id=['j8bt06nyq', 'j8bt06nzq'],\n",
    "                               productSubGroupDescription=['FLC', 'FLT'], \n",
    "                               extension='fits')\n",
    "\n",
    "# Move the files from the mastDownload directory to the current working\n",
    "# directory and make a backup of the files.\n",
    "downloaded_fits_files = glob.glob('mastDownload/HST/j*/j*flt.fits')\n",
    "fits_files = []\n",
    "for fil in downloaded_fits_files:\n",
    "    base_name = os.path.basename(fil)\n",
    "    fits_files.append(base_name)\n",
    "    if os.path.isfile(base_name):\n",
    "        os.remove(base_name)\n",
    "    shutil.move(fil, '.')\n",
    "    \n",
    "# Delete the mastDownload directory and all subdirectories it contains.\n",
    "if os.path.isdir('mastDownload'):\n",
    "    shutil.rmtree('mastDownload')"
   ]
  },
  {
   "cell_type": "markdown",
   "metadata": {},
   "source": [
    "***\n",
    "## EXAMPLE 1: Simple Workflow to Align Two or More Images\n",
    "\n",
    "In this example we illustrate the use of convenience function `tweak_image_wcs()` to align two images downloaded in the previous step. "
   ]
  },
  {
   "cell_type": "markdown",
   "metadata": {},
   "source": [
    "### 1.1 Create NDData/CCDData objects"
   ]
  },
  {
   "cell_type": "code",
   "execution_count": null,
   "metadata": {},
   "outputs": [],
   "source": [
    "from astropy.nddata import NDData\n",
    "\n",
    "images = []\n",
    "for group_id, file in enumerate(fits_files):\n",
    "    with fits.open(file) as hdulist:\n",
    "        im_data = hdulist[('SCI', 1)].data\n",
    "        dq_data = hdulist[('DQ', 1)].data\n",
    "        w = HSTWCS(hdulist, ('SCI', 1))\n",
    "        \n",
    "        # Below, simply consider non-zero DQ data as invalid.\n",
    "        # A more sophisticated approach would use bitmask module.\n",
    "        # Also, here we set group ID to a different number for each image,\n",
    "        # but for ACS images, for example, we likely would assign\n",
    "        # the same group ID to the images corresponding to different\n",
    "        # SCI extensions *of the same FITS file* so that they can be\n",
    "        # aligned together.\n",
    "        img = NDData(data=im_data, mask=dq_data != 0, wcs=w, meta={'group_id': group_id})\n",
    "        images.append(img)"
   ]
  },
  {
   "cell_type": "markdown",
   "metadata": {},
   "source": [
    "### 1.2 Create Source Catalogs\n",
    "\n",
    "Here we use `photutils` package to find stars in the images. One can use any other tools star finding."
   ]
  },
  {
   "cell_type": "code",
   "execution_count": null,
   "metadata": {},
   "outputs": [],
   "source": [
    "for catno, im in enumerate(images):\n",
    "    threshold = detect_threshold(im.data, snr=100.0)[0, 0]\n",
    "    daofind = DAOStarFinder(fwhm=2.5, threshold=threshold, exclude_border=True)\n",
    "    cat = daofind(im.data)\n",
    "    cat.rename_column('xcentroid', 'x')\n",
    "    cat.rename_column('ycentroid', 'y')\n",
    "    cat.meta['name'] = 'im{:d} sources'.format(catno + 1)\n",
    "    im.meta['catalog'] = cat\n",
    "    print(\"Length of catalog #{:d}: {:d}\".format(catno + 1, len(cat)))"
   ]
  },
  {
   "cell_type": "markdown",
   "metadata": {},
   "source": [
    "### 1.3 Align Images (Find Corrected WCS):"
   ]
  },
  {
   "cell_type": "code",
   "execution_count": null,
   "metadata": {},
   "outputs": [],
   "source": [
    "tweak_image_wcs(images)"
   ]
  },
  {
   "cell_type": "markdown",
   "metadata": {},
   "source": [
    "### 1.4 Update FITS File Headers with Aligned WCS"
   ]
  },
  {
   "cell_type": "code",
   "execution_count": null,
   "metadata": {},
   "outputs": [],
   "source": [
    "for file, w in zip(fits_files, [im.wcs for im in images]):\n",
    "    with fits.open(file, mode='update') as hdulist:\n",
    "        updatehdr.update_wcs(hdulist, 1, w, wcsname='TWEAK', reusename=True, verbose=False)"
   ]
  },
  {
   "cell_type": "code",
   "execution_count": null,
   "metadata": {},
   "outputs": [],
   "source": []
  }
 ],
 "metadata": {
  "kernelspec": {
   "display_name": "Python 3",
   "language": "python",
   "name": "python3"
  },
  "language_info": {
   "codemirror_mode": {
    "name": "ipython",
    "version": 3
   },
   "file_extension": ".py",
   "mimetype": "text/x-python",
   "name": "python",
   "nbconvert_exporter": "python",
   "pygments_lexer": "ipython3",
   "version": "3.5.6"
  }
 },
 "nbformat": 4,
 "nbformat_minor": 2
}
